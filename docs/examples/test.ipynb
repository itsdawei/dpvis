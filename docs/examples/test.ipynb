{
 "cells": [
  {
   "cell_type": "markdown",
   "id": "c09674ad",
   "metadata": {},
   "source": [
    "# Weighted Interval Scheduling\n",
    "\n",
    "- Given $N$ intervals, where interval $i$ starts at $s_i$, finishes at $f_i$,\n",
    "  and has weight $w_i$.\n",
    "- Two intervals are compatible if they don't overlap.\n",
    "- Goal: find maximum weight subset of mutually compatible intervals.\n",
    "\n",
    "Let's say that we have the following set of intervals: "
   ]
  },
  {
   "cell_type": "code",
   "execution_count": 2,
   "id": "17211022",
   "metadata": {},
   "outputs": [],
   "source": [
    "intervals = [\n",
    "    [0, 3, 3], # Starts at t=0, ends at t=3, and have weight=3\n",
    "    [1, 4, 2],\n",
    "    [0, 5, 4],\n",
    "    [3, 6, 1],\n",
    "    [4, 7, 2],\n",
    "    [3, 9, 5],\n",
    "    [5, 10, 2],\n",
    "    [8, 10, 1],\n",
    "]"
   ]
  },
  {
   "cell_type": "markdown",
   "id": "f068792e",
   "metadata": {},
   "source": [
    "## Dynamic Programming Solution\n",
    "\n",
    "> This tutorial is adapted from [GitHub](https://github.com/itsdawei/dpvis/tree/main/demos/weighted_interval.py).\n",
    "\n",
    "Let $OPT[i]$ denote the value of the optimal solution consisting of the intervals $1, 2, ..., i$.\n",
    "\n",
    "**CASE 1: $OPT$ does include the interval $i$.** In this case, $OPT$ cannot select any jobs incompatible with $i$, and $OPT$ must include optimal solution to problem consisting of remaining compatible jobs $1, 2, ..., p(i)$, where $p(i)$ denotes the last job that is compatible with $i$.\n",
    "\n",
    "**CASE 2: $OPT$ doesn't include the interval $i$.** In this case, $OPT$ must include the optimal solution consisting of intervals $1, ..., i-1$.\n",
    "\n",
    "The optimal solution should have the maximum value between these two cases. Hence, we have\n",
    "\n",
    "$$\n",
    "OPT[i] =\n",
    "\\begin{cases}\n",
    "0 & \\text{if i = 0} \\\\\n",
    "\\max\\left(w_i + OPT[p(i)], OPT[i-1]\\right) & \\text{otherwise}\n",
    "\\end{cases}\n",
    "$$"
   ]
  },
  {
   "cell_type": "markdown",
   "id": "bd8740fa",
   "metadata": {},
   "source": [
    "## Implementation\n",
    "\n",
    "First, we want to sort the intervals by finish time."
   ]
  },
  {
   "cell_type": "code",
   "execution_count": 3,
   "id": "6ed4b31d",
   "metadata": {},
   "outputs": [],
   "source": [
    "intervals = sorted(intervals, key=lambda x: x[1])"
   ]
  },
  {
   "cell_type": "markdown",
   "id": "b49f8c93",
   "metadata": {},
   "source": [
    "Then, create an empty array $OPT$, where $OPT[i]$ stores the optimal value consisting of the first $i$ intervals."
   ]
  },
  {
   "cell_type": "code",
   "execution_count": 6,
   "id": "50d0518e",
   "metadata": {},
   "outputs": [],
   "source": [
    "N = len(intervals)\n",
    "OPT = [0] * (N + 1)"
   ]
  },
  {
   "cell_type": "markdown",
   "id": "e3381370",
   "metadata": {},
   "source": [
    "When we include interval $i$, we need to determine which intervals are no longer available. To do this, we will precompute an array $p$, where **$p[i]$ denotes the largest index $j < i$ s.t. interval $i$ is compatible with $j$**."
   ]
  },
  {
   "cell_type": "code",
   "execution_count": 13,
   "id": "39273057",
   "metadata": {},
   "outputs": [],
   "source": [
    "p = [0] * (N + 1)\n",
    "for i, int_i in enumerate(intervals, start=1):\n",
    "    # Search up to the ith interval.\n",
    "    for j, int_j in enumerate(intervals, start=1):\n",
    "        if j >= i:\n",
    "            break\n",
    "        # Check that int_i and int_j are compatible.\n",
    "        if min(int_i[1], int_j[1]) - max(int_i[0], int_j[0]) < 1:\n",
    "            p[i] = j"
   ]
  },
  {
   "cell_type": "markdown",
   "id": "9034ea47",
   "metadata": {},
   "source": [
    "There is a few interesting things going in this code:\n",
    "- We use `enumerate(intervals, start=1)`, which will iterate over the list of intervals and give us the index of each item starting from 1. For our specific case, it will give us `(1, [0, 3, 3]), (2, [1, 4, 2]), ...`.\n",
    "- For the inner for-loop, we only need to search up to interval $i$, since we know that interval $i$ overlaps with itself.\n",
    "- If the intervals $i$ and $j$ are compatible, we update $p[i] = j$.\n",
    "\n",
    "**Question: We use `min(int_i[1], int_j[1]) - max(int_i[0], int_j[0])` to check if interval $i$ and $j$ are compatible with each other. Why does this work? See if you can figure it out.**\n",
    "*Recall that `int_i[0]` and `int_i[1]` refers to the start time and finish time of interval $i$, respectively*"
   ]
  },
  {
   "cell_type": "markdown",
   "id": "bf377284",
   "metadata": {},
   "source": [
    "Now we are ready to implement the dynamic program, which is just the optimal substructure that we derived earlier."
   ]
  },
  {
   "cell_type": "code",
   "execution_count": 15,
   "id": "704150e6",
   "metadata": {},
   "outputs": [
    {
     "name": "stdout",
     "output_type": "stream",
     "text": [
      "[0, 3, 3, 4, 4, 5, 8, 8, 8]\n"
     ]
    }
   ],
   "source": [
    "OPT[0] = 0\n",
    "for i, int_i in enumerate(intervals, start=1):\n",
    "    OPT[i] = max(int_i[2] + OPT[p[i]], OPT[i - 1])\n",
    "print(OPT)"
   ]
  },
  {
   "cell_type": "markdown",
   "id": "5d771323",
   "metadata": {},
   "source": [
    "## Visualization with `dpvis`\n",
    "\n",
    "To visualize the dynamic program, replace the python lists with our custom `DPArray` object."
   ]
  },
  {
   "cell_type": "code",
   "execution_count": 1,
   "id": "afdead04",
   "metadata": {},
   "outputs": [
    {
     "ename": "NameError",
     "evalue": "name 'intervals' is not defined",
     "output_type": "error",
     "traceback": [
      "\u001b[0;31m---------------------------------------------------------------------------\u001b[0m",
      "\u001b[0;31mNameError\u001b[0m                                 Traceback (most recent call last)",
      "Cell \u001b[0;32mIn[1], line 4\u001b[0m\n\u001b[1;32m      1\u001b[0m \u001b[38;5;28;01mfrom\u001b[39;00m \u001b[38;5;21;01mdp\u001b[39;00m \u001b[38;5;28;01mimport\u001b[39;00m DPArray\n\u001b[1;32m      2\u001b[0m \u001b[38;5;28;01mfrom\u001b[39;00m \u001b[38;5;21;01mdp\u001b[39;00m\u001b[38;5;21;01m.\u001b[39;00m\u001b[38;5;21;01m_visualizer\u001b[39;00m \u001b[38;5;28;01mimport\u001b[39;00m display\n\u001b[0;32m----> 4\u001b[0m N \u001b[38;5;241m=\u001b[39m \u001b[38;5;28mlen\u001b[39m(\u001b[43mintervals\u001b[49m)\n\u001b[1;32m      6\u001b[0m \u001b[38;5;66;03m# Sort intervals by finish time.\u001b[39;00m\n\u001b[1;32m      7\u001b[0m intervals \u001b[38;5;241m=\u001b[39m \u001b[38;5;28msorted\u001b[39m(intervals, key\u001b[38;5;241m=\u001b[39m\u001b[38;5;28;01mlambda\u001b[39;00m x: x[\u001b[38;5;241m1\u001b[39m])\n",
      "\u001b[0;31mNameError\u001b[0m: name 'intervals' is not defined"
     ]
    }
   ],
   "source": [
    "from dp import DPArray\n",
    "from dp._visualizer import display\n",
    "\n",
    "N = len(intervals)\n",
    "\n",
    "# Sort intervals by finish time.\n",
    "intervals = sorted(intervals, key=lambda x: x[1])\n",
    "\n",
    "# OPT[i] = value of the optimal solution consisting of intervals 1,...,i\n",
    "OPT = DPArray(N + 1, array_name=\"Weighted Interval Scheduling\", dtype=int)\n",
    "\n",
    "# Compute p[i] = largest index j < i s.t. interval i is compatible with j.\n",
    "p = [0] * (N + 1)\n",
    "for i, int_i in enumerate(intervals, start=1):\n",
    "    # Search up to the ith interval.\n",
    "    for j, int_j in enumerate(intervals[:i], start=1):\n",
    "        # Check that int_i and int_j are compatible.\n",
    "        if min(int_i[1], int_j[1]) - max(int_i[0], int_j[0]) < 1:\n",
    "            p[i] = j\n",
    "\n",
    "# Base Case.\n",
    "OPT[0] = 0\n",
    "for i, int_i in enumerate(intervals, start=1):\n",
    "    OPT[i] = max(int_i[2] + OPT[p[i]], OPT[i - 1])\n",
    "\n"
   ]
  },
  {
   "cell_type": "markdown",
   "id": "ab3524f2",
   "metadata": {},
   "source": [
    "Optionally, you may add additional information to the visualization. For example, the column labels"
   ]
  },
  {
   "cell_type": "code",
   "execution_count": 16,
   "id": "d112b2d2",
   "metadata": {},
   "outputs": [],
   "source": [
    "column_labels = [f\"{i} intervals\" for i in range(N + 1)]"
   ]
  },
  {
   "cell_type": "markdown",
   "id": "21eb4539",
   "metadata": {},
   "source": [
    "To render the visualization, use the `display` function."
   ]
  },
  {
   "cell_type": "code",
   "execution_count": 17,
   "id": "31b016bf",
   "metadata": {},
   "outputs": [
    {
     "ename": "ModuleNotFoundError",
     "evalue": "No module named 'dp'",
     "output_type": "error",
     "traceback": [
      "\u001b[0;31m---------------------------------------------------------------------------\u001b[0m",
      "\u001b[0;31mModuleNotFoundError\u001b[0m                       Traceback (most recent call last)",
      "Cell \u001b[0;32mIn[17], line 1\u001b[0m\n\u001b[0;32m----> 1\u001b[0m \u001b[38;5;28;01mfrom\u001b[39;00m \u001b[38;5;21;01mdp\u001b[39;00m\u001b[38;5;21;01m.\u001b[39;00m\u001b[38;5;21;01m_visualizer\u001b[39;00m \u001b[38;5;28;01mimport\u001b[39;00m display\n\u001b[1;32m      2\u001b[0m display(OPT)\n",
      "\u001b[0;31mModuleNotFoundError\u001b[0m: No module named 'dp'"
     ]
    }
   ],
   "source": [
    "from dp._visualizer import display\n",
    "display(OPT)"
   ]
  },
  {
   "cell_type": "code",
   "execution_count": null,
   "id": "11721a90",
   "metadata": {},
   "outputs": [],
   "source": []
  }
 ],
 "metadata": {
  "kernelspec": {
   "display_name": "dpvis",
   "language": "python",
   "name": "dpvis"
  },
  "language_info": {
   "codemirror_mode": {
    "name": "ipython",
    "version": 3
   },
   "file_extension": ".py",
   "mimetype": "text/x-python",
   "name": "python",
   "nbconvert_exporter": "python",
   "pygments_lexer": "ipython3",
   "version": "3.11.5"
  }
 },
 "nbformat": 4,
 "nbformat_minor": 5
}
