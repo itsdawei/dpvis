{
 "cells": [
  {
   "cell_type": "markdown",
   "id": "a76325d1",
   "metadata": {},
   "source": [
    "# Weighted Interval Scheduling\n",
    "\n",
    "- Given $N$ intervals, where interval $i$ starts at $s_i$, finishes at $f_i$,\n",
    "  and has weight $w_i$.\n",
    "- Two intervals are compatible if they don't overlap.\n",
    "- Goal: find maximum weight subset of mutually compatible intervals.\n",
    "\n",
    "Let's say that we have the following set of intervals: "
   ]
  },
  {
   "cell_type": "code",
   "execution_count": 1,
   "id": "cafa5ec2",
   "metadata": {},
   "outputs": [],
   "source": [
    "intervals = [\n",
    "    [0, 3, 3], # Starts at t=0, ends at t=3, and have weight=3\n",
    "    [1, 4, 2],\n",
    "    [0, 5, 4],\n",
    "    [3, 6, 1],\n",
    "    [4, 7, 2],\n",
    "    [3, 9, 5],\n",
    "    [5, 10, 2],\n",
    "    [8, 10, 1],\n",
    "]"
   ]
  },
  {
   "cell_type": "markdown",
   "id": "80e6bc5f",
   "metadata": {},
   "source": [
    "## Dynamic Programming Solution\n",
    "\n",
    "> This tutorial is adapted from [GitHub](https://github.com/itsdawei/dpvis/tree/main/demos/weighted_interval.py).\n",
    "\n",
    "Let $OPT[i]$ denote the value of the optimal solution consisting of the intervals $1, 2, ..., i$.\n",
    "\n",
    "**CASE 1: $OPT$ does include the interval $i$.** In this case, $OPT$ cannot select any jobs incompatible with $i$, and $OPT$ must include optimal solution to problem consisting of remaining compatible jobs $1, 2, ..., p(i)$, where $p(i)$ denotes the last job that is compatible with $i$.\n",
    "\n",
    "**CASE 2: $OPT$ doesn't include the interval $i$.** In this case, $OPT$ must include the optimal solution consisting of intervals $1, ..., i-1$.\n",
    "\n",
    "The optimal solution should have the maximum value between these two cases. Hence, we have\n",
    "\n",
    "$$\n",
    "OPT[i] =\n",
    "\\begin{cases}\n",
    "0 & \\text{if i = 0} \\\\\n",
    "\\max\\left(w_i + OPT[p(i)], OPT[i-1]\\right) & \\text{otherwise}\n",
    "\\end{cases}\n",
    "$$"
   ]
  },
  {
   "cell_type": "markdown",
   "id": "daeb8b97",
   "metadata": {},
   "source": [
    "## Implementation\n",
    "\n",
    "First, we want to sort the intervals by finish time."
   ]
  },
  {
   "cell_type": "code",
   "execution_count": 2,
   "id": "9addc3e2",
   "metadata": {},
   "outputs": [],
   "source": [
    "intervals = sorted(intervals, key=lambda x: x[1])"
   ]
  },
  {
   "cell_type": "markdown",
   "id": "97551d58",
   "metadata": {},
   "source": [
    "Then, create an empty array $OPT$, where $OPT[i]$ stores the optimal value consisting of the first $i$ intervals."
   ]
  },
  {
   "cell_type": "code",
   "execution_count": 3,
   "id": "a323822c",
   "metadata": {},
   "outputs": [],
   "source": [
    "N = len(intervals)\n",
    "OPT = [0] * (N + 1)"
   ]
  },
  {
   "cell_type": "markdown",
   "id": "14bb3285",
   "metadata": {},
   "source": [
    "When we include interval $i$, we need to determine which intervals are no longer available. To do this, we will precompute an array $p$, where **$p[i]$ denotes the largest index $j < i$ s.t. interval $i$ is compatible with $j$**."
   ]
  },
  {
   "cell_type": "code",
   "execution_count": 4,
   "id": "c554f7a8",
   "metadata": {},
   "outputs": [],
   "source": [
    "p = [0] * (N + 1)\n",
    "for i, int_i in enumerate(intervals, start=1):\n",
    "    # Search up to the ith interval.\n",
    "    for j, int_j in enumerate(intervals, start=1):\n",
    "        if j >= i:\n",
    "            break\n",
    "        # Check that int_i and int_j are compatible.\n",
    "        if min(int_i[1], int_j[1]) - max(int_i[0], int_j[0]) < 1:\n",
    "            p[i] = j"
   ]
  },
  {
   "cell_type": "markdown",
   "id": "4b2c8565",
   "metadata": {},
   "source": [
    "There are a few interesting things going in this code:\n",
    "- We use `enumerate(intervals, start=1)`, which will iterate over the list of intervals and give us the index of each item starting from 1. For our specific case, it will give us `(1, [0, 3, 3]), (2, [1, 4, 2]), ...`.\n",
    "- For the inner for-loop, we only need to search up to interval $i$, since we know that interval $i$ overlaps with itself.\n",
    "- If the intervals $i$ and $j$ are compatible, we update $p[i] = j$.\n",
    "\n",
    "**Question: We use `min(int_i[1], int_j[1]) - max(int_i[0], int_j[0])` to check if interval $i$ and $j$ are compatible with each other. Why does this work? See if you can figure it out.**\n",
    "*Recall that `int_i[0]` and `int_i[1]` refers to the start time and finish time of interval $i$, respectively*."
   ]
  },
  {
   "cell_type": "markdown",
   "id": "ba83598c",
   "metadata": {},
   "source": [
    "Now we are ready to implement the dynamic program, which is just the optimal substructure that we derived earlier."
   ]
  },
  {
   "cell_type": "code",
   "execution_count": 5,
   "id": "5c8e25cb",
   "metadata": {},
   "outputs": [
    {
     "name": "stdout",
     "output_type": "stream",
     "text": [
      "[0, 3, 3, 4, 4, 5, 8, 8, 8]\n"
     ]
    }
   ],
   "source": [
    "OPT[0] = 0\n",
    "for i, int_i in enumerate(intervals, start=1):\n",
    "    OPT[i] = max(int_i[2] + OPT[p[i]], OPT[i - 1])\n",
    "print(OPT)"
   ]
  },
  {
   "cell_type": "markdown",
   "id": "d4dd3f97",
   "metadata": {},
   "source": [
    "## Visualization with `dpvis`\n",
    "\n",
    "To visualize the dynamic program, replace the python lists with our custom `DPArray` object."
   ]
  },
  {
   "cell_type": "code",
   "execution_count": 6,
   "id": "6411f769",
   "metadata": {},
   "outputs": [
    {
     "name": "stderr",
     "output_type": "stream",
     "text": [
      "/home/dawei/.cache/pypoetry/virtualenvs/dpvis-UhAVmDkf-py3.11/lib/python3.11/site-packages/numpy/core/numeric.py:330: RuntimeWarning: invalid value encountered in cast\n",
      "  multiarray.copyto(a, fill_value, casting='unsafe')\n"
     ]
    }
   ],
   "source": [
    "from dp import DPArray\n",
    "from dp._visualizer import display\n",
    "\n",
    "N = len(intervals)\n",
    "\n",
    "# Sort intervals by finish time.\n",
    "intervals = sorted(intervals, key=lambda x: x[1])\n",
    "\n",
    "# OPT[i] = value of the optimal solution consisting of intervals 1,...,i\n",
    "OPT = DPArray(N + 1, array_name=\"Weighted Interval Scheduling\", dtype=int)\n",
    "\n",
    "# Compute p[i] = largest index j < i s.t. interval i is compatible with j.\n",
    "p = [0] * (N + 1)\n",
    "for i, int_i in enumerate(intervals, start=1):\n",
    "    # Search up to the ith interval.\n",
    "    for j, int_j in enumerate(intervals[:i], start=1):\n",
    "        # Check that int_i and int_j are compatible.\n",
    "        if min(int_i[1], int_j[1]) - max(int_i[0], int_j[0]) < 1:\n",
    "            p[i] = j\n",
    "\n",
    "# Base Case.\n",
    "OPT[0] = 0\n",
    "for i, int_i in enumerate(intervals, start=1):\n",
    "    OPT[i] = max(int_i[2] + OPT[p[i]], OPT[i - 1])"
   ]
  },
  {
   "cell_type": "markdown",
   "id": "b68185ed",
   "metadata": {},
   "source": [
    "Optionally, you may add additional information to the visualization. For example, the column labels"
   ]
  },
  {
   "cell_type": "code",
   "execution_count": 7,
   "id": "15ebe085",
   "metadata": {},
   "outputs": [],
   "source": [
    "column_labels = [f\"{i} intervals\" for i in range(N + 1)]"
   ]
  },
  {
   "cell_type": "markdown",
   "id": "210593ba",
   "metadata": {},
   "source": [
    "To render the visualization, use the `display` function."
   ]
  },
  {
   "cell_type": "code",
   "execution_count": 8,
   "id": "a4ee844e",
   "metadata": {
    "tags": [
     "hide_output"
    ]
   },
   "outputs": [
    {
     "data": {
      "text/html": [
       "\n",
       "        <iframe\n",
       "            width=\"100%\"\n",
       "            height=\"650\"\n",
       "            src=\"http://127.0.0.1:8050/\"\n",
       "            frameborder=\"0\"\n",
       "            allowfullscreen\n",
       "            \n",
       "        ></iframe>\n",
       "        "
      ],
      "text/plain": [
       "<IPython.lib.display.IFrame at 0x756d6835a190>"
      ]
     },
     "metadata": {},
     "output_type": "display_data"
    }
   ],
   "source": [
    "from dp._visualizer import display\n",
    "display(OPT)"
   ]
  },
  {
   "cell_type": "markdown",
   "id": "3887b53b",
   "metadata": {},
   "source": [
    "After executing the code above, this is what you will see when you go to [https://127.0.0.1:8050](https://127.0.0.1:8050).\n",
    "\n",
    "<img src=\"../../_assets/imgs/wis_t0.png\" width=\"75%\"/>\n",
    "\n",
    "- On the top of the page is a slider to control what timestep is being visualized.\n",
    "- The slider can be used to show different timesteps by clicking and dragging or using the <span style=\"color:white;background-color:black\">PLAY</span> and <span style=\"color:white;background-color:black\">STOP</span> buttons.\n",
    "- Below the slider is a visualization presenting the elements of the array on the current timestep. The 0th timestep shows the base case.\n",
    "- The visualization shows that the zeroth element of the array is set to zero, which corresponds to `OPT[0] = 0` in our code.\n",
    "\n",
    "Try dragging the slider to timestep 5.\n",
    "\n",
    "<img src=\"../../_assets/imgs/wis_t5.png\" width=\"75%\"/>\n",
    "\n",
    "Now the visual shows the array with the first six elements set. On this timestep, elements two and four of the `OPT` array are <span style=\"background-color:#b7609a\">READ</span>, meaning we accessed the values of those elements on this timestep. We also <span style=\"background-color:#5c53a5\">WRITE</span> a value of `5` to element five of the `OPT` array. This corresponds to line 37 in our code when `i=5`:\n",
    "\n",
    "```python\n",
    "# a[2] is the weight of interval i\n",
    "max(a[2] + OPT[p[i]], OPT[i - 1])\n",
    "```"
   ]
  },
  {
   "cell_type": "markdown",
   "id": "42e49be1",
   "metadata": {},
   "source": [
    "## 🚀 Live Demo\n",
    "\n",
    "<iframe src=\"https://wis.demos.davidhaolong.com\"\n",
    "        width=\"100%\" height=\"600\"\n",
    "        style=\"border: 1px solid #ccc; border-radius: 8px;\">\n",
    "</iframe>"
   ]
  }
 ],
 "metadata": {
  "kernelspec": {
   "display_name": "dpvis",
   "language": "python",
   "name": "dpvis"
  },
  "language_info": {
   "codemirror_mode": {
    "name": "ipython",
    "version": 3
   },
   "file_extension": ".py",
   "mimetype": "text/x-python",
   "name": "python",
   "nbconvert_exporter": "python",
   "pygments_lexer": "ipython3",
   "version": "3.11.7"
  }
 },
 "nbformat": 4,
 "nbformat_minor": 5
}
