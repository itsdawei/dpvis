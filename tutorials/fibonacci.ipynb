{
 "cells": [
  {
   "cell_type": "markdown",
   "id": "3ccf0ccb-6a1b-4cc8-8abe-0e4e8e58e7d7",
   "metadata": {},
   "source": [
    "## Generating the Fibonacci Sequence with Dynamic Programming\n",
    "\n",
    "In this tutorial, we will show how to generate the Fibonacci Sequence via dynamic programming using a DPArray. By using a DPArray to facilitate our dynamic programming algorithm, we can visualize and interact with the algorithm to gain a better understanding of its execution."
   ]
  },
  {
   "cell_type": "markdown",
   "id": "e4c0fba2-8e12-4e3a-b9e8-eb1e70bde173",
   "metadata": {},
   "source": [
    "## Setup\n",
    "First, install the dynvis library using pip."
   ]
  },
  {
   "cell_type": "markdown",
   "id": "e8c1a11f-3b2a-4497-ac41-597f8e4b22ad",
   "metadata": {},
   "source": [
    "- [ ] Insert installation command here"
   ]
  },
  {
   "cell_type": "markdown",
   "id": "d007b0dc-e432-4cc7-882a-b030322992de",
   "metadata": {},
   "source": [
    "Create a new file and import some utilites."
   ]
  },
  {
   "cell_type": "code",
   "execution_count": null,
   "id": "5062df11-e43d-451f-9317-6a9dd77c97d9",
   "metadata": {},
   "outputs": [],
   "source": [
    "from dp import DPArray, display"
   ]
  },
  {
   "cell_type": "markdown",
   "id": "88d87b83-aabb-4f76-8e48-4aff0b36744a",
   "metadata": {},
   "source": [
    "## Generating the Fibonacci Sequence\n",
    "\n",
    "The Fibonacci sequence is defined recursively. $0$ and $1$ are the first two numbers in the sequence and the $n$th Fibonacci number, denoted by $fib(n)$, is given by $fib(n) = fib(n - 1) + fib(n - 2)$. For example, the first ten numbers in the Fibonacci sequence are 0,1,1,2,3,5,8,13,21,34.\n",
    "\n",
    "The problem we will solve using Dynamic programming is to generate the first $n$ numbers in the Fibonacci sequence. By "
   ]
  },
  {
   "cell_type": "markdown",
   "id": "68df334e-ca99-4185-9358-b763d372536a",
   "metadata": {},
   "source": [
    "## Dynamic Programming with DPArray\n",
    "\n",
    "A [`DPArray`]() acts like an array. In the following code, we initialize "
   ]
  },
  {
   "cell_type": "code",
   "execution_count": null,
   "id": "441f7d3c-1d38-4f89-bf54-860fde4e9554",
   "metadata": {},
   "outputs": [],
   "source": []
  }
 ],
 "metadata": {
  "kernelspec": {
   "display_name": "Python 3 (ipykernel)",
   "language": "python",
   "name": "python3"
  },
  "language_info": {
   "codemirror_mode": {
    "name": "ipython",
    "version": 3
   },
   "file_extension": ".py",
   "mimetype": "text/x-python",
   "name": "python",
   "nbconvert_exporter": "python",
   "pygments_lexer": "ipython3",
   "version": "3.11.5"
  }
 },
 "nbformat": 4,
 "nbformat_minor": 5
}
